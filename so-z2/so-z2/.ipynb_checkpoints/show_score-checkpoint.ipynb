{
 "metadata": {
  "name": ""
 },
 "nbformat": 3,
 "nbformat_minor": 0,
 "worksheets": [
  {
   "cells": [
    {
     "cell_type": "heading",
     "level": 1,
     "metadata": {},
     "source": [
      "Shows results of IO algorithms"
     ]
    },
    {
     "cell_type": "code",
     "collapsed": false,
     "input": [
      "from plotting import batch\n",
      "from pprint import pprint\n",
      "from itertools import izip\n",
      "import pandas as pd"
     ],
     "language": "python",
     "metadata": {},
     "outputs": [],
     "prompt_number": 7
    },
    {
     "cell_type": "code",
     "collapsed": false,
     "input": [
      "data, hd, proc, demand = batch(rnd=False)\n",
      "sdata = pd.Series(data)\n",
      "sdata.sort()\n",
      "sdata.plot(kind='barh')"
     ],
     "language": "python",
     "metadata": {},
     "outputs": [
      {
       "output_type": "stream",
       "stream": "stdout",
       "text": [
        "SCAN      263\n",
        "SSFT      329\n",
        "CSCAN     377\n",
        "EDF       629\n",
        "FDSCAN    696\n",
        "FCFS      703\n"
       ]
      },
      {
       "metadata": {},
       "output_type": "display_data",
       "png": "[encoded data removed]",
       "text": [
        "<matplotlib.figure.Figure at 0x6a63150>"
       ]
      }
     ],
     "prompt_number": 15
    },
    {
     "cell_type": "code",
     "collapsed": false,
     "input": [
      "pprint(data)\n",
      "pprint(proc)\n",
      "pprint(hd)\n",
      "pprint(demand)"
     ],
     "language": "python",
     "metadata": {},
     "outputs": [
      {
       "output_type": "stream",
       "stream": "stdout",
       "text": [
        "{'CSCAN': 377,\n",
        " 'EDF': 548,\n",
        " 'FCFS': 582,\n",
        " 'FDSCAN': 660,\n",
        " 'SCAN': 318,\n",
        " 'SSFT': 253}\n",
        "[<PROC: n: 136, d: 2, False>,\n",
        " <PROC: n: 98, d: 2, True>,\n",
        " <PROC: n: 199, d: 2, False>,\n",
        " <PROC: n: 148, d: 0, False>,\n",
        " <PROC: n: 151, d: 3, False>,\n",
        " <PROC: n: 45, d: 0, False>,\n",
        " <PROC: n: 123, d: 1, False>,\n",
        " <PROC: n: 26, d: 3, False>,\n",
        " <PROC: n: 79, d: 2, False>,\n",
        " <PROC: n: 41, d: 0, False>]\n",
        "<algo.Hd object at 0x05897FB0>\n",
        "<algo.Demand object at 0x05890870>\n"
       ]
      }
     ],
     "prompt_number": 9
    },
    {
     "cell_type": "code",
     "collapsed": false,
     "input": [],
     "language": "python",
     "metadata": {},
     "outputs": []
    }
   ],
   "metadata": {}
  }
 ]
}