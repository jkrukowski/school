{
 "metadata": {
  "name": ""
 },
 "nbformat": 3,
 "nbformat_minor": 0,
 "worksheets": [
  {
   "cells": [
    {
     "cell_type": "heading",
     "level": 1,
     "metadata": {},
     "source": [
      "Shows results of IO algorithms"
     ]
    },
    {
     "cell_type": "code",
     "collapsed": false,
     "input": [
      "from plotting import batch\n",
      "from pprint import pprint\n",
      "from itertools import izip"
     ],
     "language": "python",
     "metadata": {},
     "outputs": [],
     "prompt_number": 13
    },
    {
     "cell_type": "code",
     "collapsed": false,
     "input": [
      "data, hd, proc, demand = batch(rnd=True)\n",
      "xs = [i for i in xrange(1, len(data)+1)]\n",
      "for value, x in izip(data.iteritems(), xs):\n",
      "    name, y = value\n",
      "    plot(x, y, 'bo', label=name)"
     ],
     "language": "python",
     "metadata": {},
     "outputs": [
      {
       "metadata": {},
       "output_type": "display_data",
       "png": "[encoded data removed]",
       "text": [
        "<matplotlib.figure.Figure at 0x50f1870>"
       ]
      }
     ],
     "prompt_number": 14
    },
    {
     "cell_type": "code",
     "collapsed": false,
     "input": [
      "pprint(proc)\n",
      "pprint(hd)\n",
      "pprint(demand)"
     ],
     "language": "python",
     "metadata": {},
     "outputs": [
      {
       "output_type": "stream",
       "stream": "stdout",
       "text": [
        "[<PROC: n: 28, d: 3, False>,\n",
        " <PROC: n: 88, d: 0, False>,\n",
        " <PROC: n: 94, d: 0, False>,\n",
        " <PROC: n: 62, d: 2, False>,\n",
        " <PROC: n: 78, d: 3, False>,\n",
        " <PROC: n: 102, d: 2, False>,\n",
        " <PROC: n: 190, d: 0, True>,\n",
        " <PROC: n: 99, d: 0, False>,\n",
        " <PROC: n: 29, d: 2, False>,\n",
        " <PROC: n: 122, d: 0, True>]\n",
        "<algo.Hd object at 0x050F19B0>\n",
        "<algo.Demand object at 0x050F1F30>\n"
       ]
      }
     ],
     "prompt_number": 15
    }
   ],
   "metadata": {}
  }
 ]
}