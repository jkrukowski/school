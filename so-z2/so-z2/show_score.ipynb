{
 "metadata": {
  "name": ""
 },
 "nbformat": 3,
 "nbformat_minor": 0,
 "worksheets": [
  {
   "cells": [
    {
     "cell_type": "heading",
     "level": 1,
     "metadata": {},
     "source": [
      "Shows results of IO algorithms"
     ]
    },
    {
     "cell_type": "code",
     "collapsed": false,
     "input": [
      "from plotting import batch\n",
      "from pprint import pprint\n",
      "from itertools import izip\n",
      "import pandas as pd"
     ],
     "language": "python",
     "metadata": {},
     "outputs": [],
     "prompt_number": 1
    },
    {
     "cell_type": "code",
     "collapsed": true,
     "input": [
      "data, hd, proc, demand = batch(rnd=False)\n",
      "sdata = pd.Series(data)\n",
      "sdata.sort()\n",
      "sdata.plot(kind='barh')"
     ],
     "language": "python",
     "metadata": {},
     "outputs": [
      {
       "metadata": {},
       "output_type": "pyout",
       "prompt_number": 2,
       "text": [
        "<matplotlib.axes.AxesSubplot at 0x58398b0>"
       ]
      },
      {
       "metadata": {},
       "output_type": "display_data",
       "png": "[encoded data removed]",
       "text": [
        "<matplotlib.figure.Figure at 0x58396d0>"
       ]
      }
     ],
     "prompt_number": 2
    },
    {
     "cell_type": "code",
     "collapsed": false,
     "input": [
      "pprint(data)\n",
      "pprint(proc)\n",
      "pprint(hd)\n",
      "pprint(demand)"
     ],
     "language": "python",
     "metadata": {},
     "outputs": [
      {
       "output_type": "stream",
       "stream": "stdout",
       "text": [
        "{'CSCAN': 365, 'EDF': 67, 'FCFS': 67, 'FDSCAN': 0, 'SCAN': 133, 'SSFT': 67}\n",
        "[<PROC: n: 100, d: 2, True>]\n",
        "<algo.Hd object at 0x058334D0>\n",
        "<algo.Demand object at 0x05833530>\n"
       ]
      }
     ],
     "prompt_number": 4
    },
    {
     "cell_type": "code",
     "collapsed": false,
     "input": [],
     "language": "python",
     "metadata": {},
     "outputs": []
    }
   ],
   "metadata": {}
  }
 ]
}