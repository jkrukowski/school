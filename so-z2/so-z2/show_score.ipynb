{
 "metadata": {
  "name": ""
 },
 "nbformat": 3,
 "nbformat_minor": 0,
 "worksheets": [
  {
   "cells": [
    {
     "cell_type": "heading",
     "level": 1,
     "metadata": {},
     "source": [
      "Shows results of IO algorithms"
     ]
    },
    {
     "cell_type": "code",
     "collapsed": false,
     "input": [
      "from plotting import batch\n",
      "from pprint import pprint\n",
      "from itertools import izip"
     ],
     "language": "python",
     "metadata": {},
     "outputs": [],
     "prompt_number": 1
    },
    {
     "cell_type": "code",
     "collapsed": false,
     "input": [
      "data, hd, proc, demand = batch(rnd=True)\n",
      "xs = [i for i in xrange(1, len(data)+1)]\n",
      "for value, x in izip(data.iteritems(), xs):\n",
      "    name, y = value\n",
      "    plot(x, y, 'bo', label=name)"
     ],
     "language": "python",
     "metadata": {},
     "outputs": [
      {
       "metadata": {},
       "output_type": "display_data",
       "png": "[encoded data removed]",
       "text": [
        "<matplotlib.figure.Figure at 0x5045f70>"
       ]
      }
     ],
     "prompt_number": 6
    },
    {
     "cell_type": "code",
     "collapsed": false,
     "input": [
      "pprint(proc)\n",
      "pprint(hd)\n",
      "pprint(demand)"
     ],
     "language": "python",
     "metadata": {},
     "outputs": [
      {
       "output_type": "stream",
       "stream": "stdout",
       "text": [
        "[<PROC: n: 48, d: 1, False>,\n",
        " <PROC: n: 29, d: 1, False>,\n",
        " <PROC: n: 39, d: 1, False>,\n",
        " <PROC: n: 43, d: 2, False>,\n",
        " <PROC: n: 51, d: 0, False>,\n",
        " <PROC: n: 158, d: 1, False>,\n",
        " <PROC: n: 54, d: 1, True>,\n",
        " <PROC: n: 98, d: 0, True>,\n",
        " <PROC: n: 16, d: 0, False>,\n",
        " <PROC: n: 79, d: 3, False>]\n",
        "<algo.Hd object at 0x05045470>\n",
        "<algo.Demand object at 0x05045730>\n"
       ]
      }
     ],
     "prompt_number": 7
    },
    {
     "cell_type": "code",
     "collapsed": false,
     "input": [],
     "language": "python",
     "metadata": {},
     "outputs": []
    }
   ],
   "metadata": {}
  }
 ]
}